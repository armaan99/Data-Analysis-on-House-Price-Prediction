{
 "cells": [
  {
   "cell_type": "markdown",
   "metadata": {},
   "source": [
    "# Analyzing \"House\" dataset of \"King County, USA\" to <i>\"Predict the Price of House\"</i>"
   ]
  },
  {
   "cell_type": "markdown",
   "metadata": {},
   "source": [
    "<b>Dataset has been downloaded from Kaggle and saved locally in same directory as:</b>\n",
    "\n",
    "<i>house_data.csv</i>"
   ]
  },
  {
   "cell_type": "markdown",
   "metadata": {},
   "source": [
    "# 1) Importing Dataset"
   ]
  },
  {
   "cell_type": "code",
   "execution_count": 1,
   "metadata": {},
   "outputs": [],
   "source": [
    "# Importing pandas library to work on dataset\n",
    "import pandas as pd\n",
    "\n",
    "# Fetching the dataset into a dataframe\n",
    "path = \"house_data.csv\"\n",
    "df = pd.read_csv(path)"
   ]
  },
  {
   "cell_type": "code",
   "execution_count": 2,
   "metadata": {},
   "outputs": [
    {
     "data": {
      "text/plain": [
       "(21613, 21)"
      ]
     },
     "execution_count": 2,
     "metadata": {},
     "output_type": "execute_result"
    }
   ],
   "source": [
    "# Checking for dataset shape\n",
    "df.shape"
   ]
  },
  {
   "cell_type": "code",
   "execution_count": 3,
   "metadata": {},
   "outputs": [
    {
     "data": {
      "text/html": [
       "<div>\n",
       "<style scoped>\n",
       "    .dataframe tbody tr th:only-of-type {\n",
       "        vertical-align: middle;\n",
       "    }\n",
       "\n",
       "    .dataframe tbody tr th {\n",
       "        vertical-align: top;\n",
       "    }\n",
       "\n",
       "    .dataframe thead th {\n",
       "        text-align: right;\n",
       "    }\n",
       "</style>\n",
       "<table border=\"1\" class=\"dataframe\">\n",
       "  <thead>\n",
       "    <tr style=\"text-align: right;\">\n",
       "      <th></th>\n",
       "      <th>id</th>\n",
       "      <th>date</th>\n",
       "      <th>price</th>\n",
       "      <th>bedrooms</th>\n",
       "      <th>bathrooms</th>\n",
       "      <th>sqft_living</th>\n",
       "      <th>sqft_lot</th>\n",
       "      <th>floors</th>\n",
       "      <th>waterfront</th>\n",
       "      <th>view</th>\n",
       "      <th>...</th>\n",
       "      <th>grade</th>\n",
       "      <th>sqft_above</th>\n",
       "      <th>sqft_basement</th>\n",
       "      <th>yr_built</th>\n",
       "      <th>yr_renovated</th>\n",
       "      <th>zipcode</th>\n",
       "      <th>lat</th>\n",
       "      <th>long</th>\n",
       "      <th>sqft_living15</th>\n",
       "      <th>sqft_lot15</th>\n",
       "    </tr>\n",
       "  </thead>\n",
       "  <tbody>\n",
       "    <tr>\n",
       "      <td>0</td>\n",
       "      <td>7129300520</td>\n",
       "      <td>20141013T000000</td>\n",
       "      <td>221900.0</td>\n",
       "      <td>3</td>\n",
       "      <td>1.00</td>\n",
       "      <td>1180</td>\n",
       "      <td>5650</td>\n",
       "      <td>1.0</td>\n",
       "      <td>0</td>\n",
       "      <td>0</td>\n",
       "      <td>...</td>\n",
       "      <td>7</td>\n",
       "      <td>1180</td>\n",
       "      <td>0</td>\n",
       "      <td>1955</td>\n",
       "      <td>0</td>\n",
       "      <td>98178</td>\n",
       "      <td>47.5112</td>\n",
       "      <td>-122.257</td>\n",
       "      <td>1340</td>\n",
       "      <td>5650</td>\n",
       "    </tr>\n",
       "    <tr>\n",
       "      <td>1</td>\n",
       "      <td>6414100192</td>\n",
       "      <td>20141209T000000</td>\n",
       "      <td>538000.0</td>\n",
       "      <td>3</td>\n",
       "      <td>2.25</td>\n",
       "      <td>2570</td>\n",
       "      <td>7242</td>\n",
       "      <td>2.0</td>\n",
       "      <td>0</td>\n",
       "      <td>0</td>\n",
       "      <td>...</td>\n",
       "      <td>7</td>\n",
       "      <td>2170</td>\n",
       "      <td>400</td>\n",
       "      <td>1951</td>\n",
       "      <td>1991</td>\n",
       "      <td>98125</td>\n",
       "      <td>47.7210</td>\n",
       "      <td>-122.319</td>\n",
       "      <td>1690</td>\n",
       "      <td>7639</td>\n",
       "    </tr>\n",
       "    <tr>\n",
       "      <td>2</td>\n",
       "      <td>5631500400</td>\n",
       "      <td>20150225T000000</td>\n",
       "      <td>180000.0</td>\n",
       "      <td>2</td>\n",
       "      <td>1.00</td>\n",
       "      <td>770</td>\n",
       "      <td>10000</td>\n",
       "      <td>1.0</td>\n",
       "      <td>0</td>\n",
       "      <td>0</td>\n",
       "      <td>...</td>\n",
       "      <td>6</td>\n",
       "      <td>770</td>\n",
       "      <td>0</td>\n",
       "      <td>1933</td>\n",
       "      <td>0</td>\n",
       "      <td>98028</td>\n",
       "      <td>47.7379</td>\n",
       "      <td>-122.233</td>\n",
       "      <td>2720</td>\n",
       "      <td>8062</td>\n",
       "    </tr>\n",
       "    <tr>\n",
       "      <td>3</td>\n",
       "      <td>2487200875</td>\n",
       "      <td>20141209T000000</td>\n",
       "      <td>604000.0</td>\n",
       "      <td>4</td>\n",
       "      <td>3.00</td>\n",
       "      <td>1960</td>\n",
       "      <td>5000</td>\n",
       "      <td>1.0</td>\n",
       "      <td>0</td>\n",
       "      <td>0</td>\n",
       "      <td>...</td>\n",
       "      <td>7</td>\n",
       "      <td>1050</td>\n",
       "      <td>910</td>\n",
       "      <td>1965</td>\n",
       "      <td>0</td>\n",
       "      <td>98136</td>\n",
       "      <td>47.5208</td>\n",
       "      <td>-122.393</td>\n",
       "      <td>1360</td>\n",
       "      <td>5000</td>\n",
       "    </tr>\n",
       "    <tr>\n",
       "      <td>4</td>\n",
       "      <td>1954400510</td>\n",
       "      <td>20150218T000000</td>\n",
       "      <td>510000.0</td>\n",
       "      <td>3</td>\n",
       "      <td>2.00</td>\n",
       "      <td>1680</td>\n",
       "      <td>8080</td>\n",
       "      <td>1.0</td>\n",
       "      <td>0</td>\n",
       "      <td>0</td>\n",
       "      <td>...</td>\n",
       "      <td>8</td>\n",
       "      <td>1680</td>\n",
       "      <td>0</td>\n",
       "      <td>1987</td>\n",
       "      <td>0</td>\n",
       "      <td>98074</td>\n",
       "      <td>47.6168</td>\n",
       "      <td>-122.045</td>\n",
       "      <td>1800</td>\n",
       "      <td>7503</td>\n",
       "    </tr>\n",
       "    <tr>\n",
       "      <td>5</td>\n",
       "      <td>7237550310</td>\n",
       "      <td>20140512T000000</td>\n",
       "      <td>1225000.0</td>\n",
       "      <td>4</td>\n",
       "      <td>4.50</td>\n",
       "      <td>5420</td>\n",
       "      <td>101930</td>\n",
       "      <td>1.0</td>\n",
       "      <td>0</td>\n",
       "      <td>0</td>\n",
       "      <td>...</td>\n",
       "      <td>11</td>\n",
       "      <td>3890</td>\n",
       "      <td>1530</td>\n",
       "      <td>2001</td>\n",
       "      <td>0</td>\n",
       "      <td>98053</td>\n",
       "      <td>47.6561</td>\n",
       "      <td>-122.005</td>\n",
       "      <td>4760</td>\n",
       "      <td>101930</td>\n",
       "    </tr>\n",
       "    <tr>\n",
       "      <td>6</td>\n",
       "      <td>1321400060</td>\n",
       "      <td>20140627T000000</td>\n",
       "      <td>257500.0</td>\n",
       "      <td>3</td>\n",
       "      <td>2.25</td>\n",
       "      <td>1715</td>\n",
       "      <td>6819</td>\n",
       "      <td>2.0</td>\n",
       "      <td>0</td>\n",
       "      <td>0</td>\n",
       "      <td>...</td>\n",
       "      <td>7</td>\n",
       "      <td>1715</td>\n",
       "      <td>0</td>\n",
       "      <td>1995</td>\n",
       "      <td>0</td>\n",
       "      <td>98003</td>\n",
       "      <td>47.3097</td>\n",
       "      <td>-122.327</td>\n",
       "      <td>2238</td>\n",
       "      <td>6819</td>\n",
       "    </tr>\n",
       "    <tr>\n",
       "      <td>7</td>\n",
       "      <td>2008000270</td>\n",
       "      <td>20150115T000000</td>\n",
       "      <td>291850.0</td>\n",
       "      <td>3</td>\n",
       "      <td>1.50</td>\n",
       "      <td>1060</td>\n",
       "      <td>9711</td>\n",
       "      <td>1.0</td>\n",
       "      <td>0</td>\n",
       "      <td>0</td>\n",
       "      <td>...</td>\n",
       "      <td>7</td>\n",
       "      <td>1060</td>\n",
       "      <td>0</td>\n",
       "      <td>1963</td>\n",
       "      <td>0</td>\n",
       "      <td>98198</td>\n",
       "      <td>47.4095</td>\n",
       "      <td>-122.315</td>\n",
       "      <td>1650</td>\n",
       "      <td>9711</td>\n",
       "    </tr>\n",
       "    <tr>\n",
       "      <td>8</td>\n",
       "      <td>2414600126</td>\n",
       "      <td>20150415T000000</td>\n",
       "      <td>229500.0</td>\n",
       "      <td>3</td>\n",
       "      <td>1.00</td>\n",
       "      <td>1780</td>\n",
       "      <td>7470</td>\n",
       "      <td>1.0</td>\n",
       "      <td>0</td>\n",
       "      <td>0</td>\n",
       "      <td>...</td>\n",
       "      <td>7</td>\n",
       "      <td>1050</td>\n",
       "      <td>730</td>\n",
       "      <td>1960</td>\n",
       "      <td>0</td>\n",
       "      <td>98146</td>\n",
       "      <td>47.5123</td>\n",
       "      <td>-122.337</td>\n",
       "      <td>1780</td>\n",
       "      <td>8113</td>\n",
       "    </tr>\n",
       "    <tr>\n",
       "      <td>9</td>\n",
       "      <td>3793500160</td>\n",
       "      <td>20150312T000000</td>\n",
       "      <td>323000.0</td>\n",
       "      <td>3</td>\n",
       "      <td>2.50</td>\n",
       "      <td>1890</td>\n",
       "      <td>6560</td>\n",
       "      <td>2.0</td>\n",
       "      <td>0</td>\n",
       "      <td>0</td>\n",
       "      <td>...</td>\n",
       "      <td>7</td>\n",
       "      <td>1890</td>\n",
       "      <td>0</td>\n",
       "      <td>2003</td>\n",
       "      <td>0</td>\n",
       "      <td>98038</td>\n",
       "      <td>47.3684</td>\n",
       "      <td>-122.031</td>\n",
       "      <td>2390</td>\n",
       "      <td>7570</td>\n",
       "    </tr>\n",
       "  </tbody>\n",
       "</table>\n",
       "<p>10 rows × 21 columns</p>\n",
       "</div>"
      ],
      "text/plain": [
       "           id             date      price  bedrooms  bathrooms  sqft_living  \\\n",
       "0  7129300520  20141013T000000   221900.0         3       1.00         1180   \n",
       "1  6414100192  20141209T000000   538000.0         3       2.25         2570   \n",
       "2  5631500400  20150225T000000   180000.0         2       1.00          770   \n",
       "3  2487200875  20141209T000000   604000.0         4       3.00         1960   \n",
       "4  1954400510  20150218T000000   510000.0         3       2.00         1680   \n",
       "5  7237550310  20140512T000000  1225000.0         4       4.50         5420   \n",
       "6  1321400060  20140627T000000   257500.0         3       2.25         1715   \n",
       "7  2008000270  20150115T000000   291850.0         3       1.50         1060   \n",
       "8  2414600126  20150415T000000   229500.0         3       1.00         1780   \n",
       "9  3793500160  20150312T000000   323000.0         3       2.50         1890   \n",
       "\n",
       "   sqft_lot  floors  waterfront  view  ...  grade  sqft_above  sqft_basement  \\\n",
       "0      5650     1.0           0     0  ...      7        1180              0   \n",
       "1      7242     2.0           0     0  ...      7        2170            400   \n",
       "2     10000     1.0           0     0  ...      6         770              0   \n",
       "3      5000     1.0           0     0  ...      7        1050            910   \n",
       "4      8080     1.0           0     0  ...      8        1680              0   \n",
       "5    101930     1.0           0     0  ...     11        3890           1530   \n",
       "6      6819     2.0           0     0  ...      7        1715              0   \n",
       "7      9711     1.0           0     0  ...      7        1060              0   \n",
       "8      7470     1.0           0     0  ...      7        1050            730   \n",
       "9      6560     2.0           0     0  ...      7        1890              0   \n",
       "\n",
       "   yr_built  yr_renovated  zipcode      lat     long  sqft_living15  \\\n",
       "0      1955             0    98178  47.5112 -122.257           1340   \n",
       "1      1951          1991    98125  47.7210 -122.319           1690   \n",
       "2      1933             0    98028  47.7379 -122.233           2720   \n",
       "3      1965             0    98136  47.5208 -122.393           1360   \n",
       "4      1987             0    98074  47.6168 -122.045           1800   \n",
       "5      2001             0    98053  47.6561 -122.005           4760   \n",
       "6      1995             0    98003  47.3097 -122.327           2238   \n",
       "7      1963             0    98198  47.4095 -122.315           1650   \n",
       "8      1960             0    98146  47.5123 -122.337           1780   \n",
       "9      2003             0    98038  47.3684 -122.031           2390   \n",
       "\n",
       "   sqft_lot15  \n",
       "0        5650  \n",
       "1        7639  \n",
       "2        8062  \n",
       "3        5000  \n",
       "4        7503  \n",
       "5      101930  \n",
       "6        6819  \n",
       "7        9711  \n",
       "8        8113  \n",
       "9        7570  \n",
       "\n",
       "[10 rows x 21 columns]"
      ]
     },
     "execution_count": 3,
     "metadata": {},
     "output_type": "execute_result"
    }
   ],
   "source": [
    "# Displaying first ten rows of dataset\n",
    "df.head(10)"
   ]
  },
  {
   "cell_type": "markdown",
   "metadata": {},
   "source": [
    "# 2) Data Wrangling\n",
    "\n",
    "<i>Data Wrangling is the process of converting data from the initial format to a format that may be better for analysis.</i>\n",
    "\n",
    "<p><b>Data Wrangling includes:</b></p>\n",
    "<ul>\n",
    "    <li> Identify and Handle Missing Values\n",
    "    <li> Data Standardization\n",
    "    <li> Data Normalization (Centering / Scaling)\n",
    "    <li> Binning\n",
    "    <li> Indicator Variable\n",
    "</ul>"
   ]
  },
  {
   "cell_type": "markdown",
   "metadata": {},
   "source": [
    "## a) Identify and Handle Missing Values"
   ]
  },
  {
   "cell_type": "markdown",
   "metadata": {},
   "source": [
    "<b>How to work with missing data?</b>\n",
    "<ol>\n",
    "    <li>identify missing data</li>\n",
    "    <li>correct data format</li>\n",
    "    <li>deal with missing data</li>\n",
    "</ol>"
   ]
  },
  {
   "cell_type": "markdown",
   "metadata": {},
   "source": [
    "### I. IDENTIFYING MISSING VALUES"
   ]
  },
  {
   "cell_type": "code",
   "execution_count": 4,
   "metadata": {},
   "outputs": [
    {
     "data": {
      "text/plain": [
       "id               0\n",
       "date             0\n",
       "price            0\n",
       "bedrooms         0\n",
       "bathrooms        0\n",
       "sqft_living      0\n",
       "sqft_lot         0\n",
       "floors           0\n",
       "waterfront       0\n",
       "view             0\n",
       "condition        0\n",
       "grade            0\n",
       "sqft_above       0\n",
       "sqft_basement    0\n",
       "yr_built         0\n",
       "yr_renovated     0\n",
       "zipcode          0\n",
       "lat              0\n",
       "long             0\n",
       "sqft_living15    0\n",
       "sqft_lot15       0\n",
       "dtype: int64"
      ]
     },
     "execution_count": 4,
     "metadata": {},
     "output_type": "execute_result"
    }
   ],
   "source": [
    "df.isnull().sum()"
   ]
  },
  {
   "cell_type": "markdown",
   "metadata": {},
   "source": [
    "### II. Correct data format\n",
    "<p>Now we will check and make sure that all data is in the correct format (int, float, text or other).</p>\n",
    "\n",
    "In Pandas, we use\n",
    "<p><b>.dtype()</b> to check the data type</p>\n",
    "<p><b>.astype()</b> to change the data type</p>"
   ]
  },
  {
   "cell_type": "code",
   "execution_count": 5,
   "metadata": {},
   "outputs": [
    {
     "data": {
      "text/plain": [
       "id                 int64\n",
       "date              object\n",
       "price            float64\n",
       "bedrooms           int64\n",
       "bathrooms        float64\n",
       "sqft_living        int64\n",
       "sqft_lot           int64\n",
       "floors           float64\n",
       "waterfront         int64\n",
       "view               int64\n",
       "condition          int64\n",
       "grade              int64\n",
       "sqft_above         int64\n",
       "sqft_basement      int64\n",
       "yr_built           int64\n",
       "yr_renovated       int64\n",
       "zipcode            int64\n",
       "lat              float64\n",
       "long             float64\n",
       "sqft_living15      int64\n",
       "sqft_lot15         int64\n",
       "dtype: object"
      ]
     },
     "execution_count": 5,
     "metadata": {},
     "output_type": "execute_result"
    }
   ],
   "source": [
    "# Checking for datatypes of each column\n",
    "df.dtypes"
   ]
  },
  {
   "cell_type": "markdown",
   "metadata": {},
   "source": [
    "## Dealing with outliers\n",
    "\n",
    "We will be using Scatter Plots to detect outliers"
   ]
  },
  {
   "cell_type": "code",
   "execution_count": 6,
   "metadata": {},
   "outputs": [],
   "source": [
    "# importing matplotlib to plot charts\n",
    "import matplotlib.pyplot as plt"
   ]
  },
  {
   "cell_type": "markdown",
   "metadata": {},
   "source": [
    "<b>i. Feature Variable : 'sqft_living'</b>"
   ]
  },
  {
   "cell_type": "code",
   "execution_count": 7,
   "metadata": {},
   "outputs": [
    {
     "data": {
      "text/plain": [
       "count    21613.000000\n",
       "mean      2079.899736\n",
       "std        918.440897\n",
       "min        290.000000\n",
       "25%       1427.000000\n",
       "50%       1910.000000\n",
       "75%       2550.000000\n",
       "max      13540.000000\n",
       "Name: sqft_living, dtype: float64"
      ]
     },
     "execution_count": 7,
     "metadata": {},
     "output_type": "execute_result"
    }
   ],
   "source": [
    "df['sqft_living'].describe()"
   ]
  },
  {
   "cell_type": "code",
   "execution_count": 8,
   "metadata": {},
   "outputs": [
    {
     "data": {
      "text/plain": [
       "<matplotlib.collections.PathCollection at 0x28a627a6408>"
      ]
     },
     "execution_count": 8,
     "metadata": {},
     "output_type": "execute_result"
    },
    {
     "data": {
      "image/png": "[encoded data removed]",
      "text/plain": [
       "<Figure size 432x288 with 1 Axes>"
      ]
     },
     "metadata": {
      "needs_background": "light"
     },
     "output_type": "display_data"
    }
   ],
   "source": [
    "# Checking outliers for the feature variable 'sqft_living'\n",
    "plt.scatter(df['sqft_living'], df['price'])"
   ]
  },
  {
   "cell_type": "code",
   "execution_count": 9,
   "metadata": {},
   "outputs": [],
   "source": [
    "# Finding row index of outliers (i.e. with values > 8000)\n",
    "index = df[df['sqft_living']>8000].index\n",
    "\n",
    "# Removing outliers\n",
    "df.drop(index, inplace=True)"
   ]
  },
  {
   "cell_type": "code",
   "execution_count": 10,
   "metadata": {},
   "outputs": [
    {
     "data": {
      "text/plain": [
       "count    21604.000000\n",
       "mean      2076.643816\n",
       "std        903.976311\n",
       "min        290.000000\n",
       "25%       1421.500000\n",
       "50%       1910.000000\n",
       "75%       2550.000000\n",
       "max       8000.000000\n",
       "Name: sqft_living, dtype: float64"
      ]
     },
     "execution_count": 10,
     "metadata": {},
     "output_type": "execute_result"
    }
   ],
   "source": [
    "df['sqft_living'].describe()"
   ]
  },
  {
   "cell_type": "code",
   "execution_count": 11,
   "metadata": {},
   "outputs": [
    {
     "data": {
      "text/plain": [
       "<matplotlib.collections.PathCollection at 0x28a62affb88>"
      ]
     },
     "execution_count": 11,
     "metadata": {},
     "output_type": "execute_result"
    },
    {
     "data": {
      "image/png": "[encoded data removed]",
      "text/plain": [
       "<Figure size 432x288 with 1 Axes>"
      ]
     },
     "metadata": {
      "needs_background": "light"
     },
     "output_type": "display_data"
    }
   ],
   "source": [
    "plt.scatter(df['sqft_living'], df['price'])"
   ]
  },
  {
   "cell_type": "markdown",
   "metadata": {},
   "source": [
    "<b>ii. Feature Variable : 'sqft_lot'</b>"
   ]
  },
  {
   "cell_type": "code",
   "execution_count": 12,
   "metadata": {},
   "outputs": [
    {
     "data": {
      "text/plain": [
       "count    2.160400e+04\n",
       "mean     1.508625e+04\n",
       "std      4.137864e+04\n",
       "min      5.200000e+02\n",
       "25%      5.040000e+03\n",
       "50%      7.616000e+03\n",
       "75%      1.067550e+04\n",
       "max      1.651359e+06\n",
       "Name: sqft_lot, dtype: float64"
      ]
     },
     "execution_count": 12,
     "metadata": {},
     "output_type": "execute_result"
    }
   ],
   "source": [
    "df['sqft_lot'].describe()"
   ]
  },
  {
   "cell_type": "code",
   "execution_count": 13,
   "metadata": {},
   "outputs": [
    {
     "data": {
      "text/plain": [
       "<matplotlib.collections.PathCollection at 0x28a62b78bc8>"
      ]
     },
     "execution_count": 13,
     "metadata": {},
     "output_type": "execute_result"
    },
    {
     "data": {
      "image/png": "[encoded data removed]",
      "text/plain": [
       "<Figure size 432x288 with 1 Axes>"
      ]
     },
     "metadata": {
      "needs_background": "light"
     },
     "output_type": "display_data"
    }
   ],
   "source": [
    "plt.scatter(df['sqft_lot'], df['price'])"
   ]
  },
  {
   "cell_type": "code",
   "execution_count": 14,
   "metadata": {},
   "outputs": [],
   "source": [
    "# Finding row index of outliers (i.e. with values > 125000)\n",
    "index = df[df['sqft_lot']>250000].index\n",
    "\n",
    "# Removing outliers\n",
    "df.drop(index, inplace=True)"
   ]
  },
  {
   "cell_type": "code",
   "execution_count": 15,
   "metadata": {},
   "outputs": [
    {
     "data": {
      "text/plain": [
       "count     21499.000000\n",
       "mean      13046.335504\n",
       "std       24425.937984\n",
       "min         520.000000\n",
       "25%        5036.500000\n",
       "50%        7590.000000\n",
       "75%       10575.500000\n",
       "max      249126.000000\n",
       "Name: sqft_lot, dtype: float64"
      ]
     },
     "execution_count": 15,
     "metadata": {},
     "output_type": "execute_result"
    }
   ],
   "source": [
    "df['sqft_lot'].describe()"
   ]
  },
  {
   "cell_type": "code",
   "execution_count": 16,
   "metadata": {},
   "outputs": [
    {
     "data": {
      "text/plain": [
       "<matplotlib.collections.PathCollection at 0x28a628540c8>"
      ]
     },
     "execution_count": 16,
     "metadata": {},
     "output_type": "execute_result"
    },
    {
     "data": {
      "image/png": "[encoded data removed]",
      "text/plain": [
       "<Figure size 432x288 with 1 Axes>"
      ]
     },
     "metadata": {
      "needs_background": "light"
     },
     "output_type": "display_data"
    }
   ],
   "source": [
    "plt.scatter(df['sqft_lot'], df['price'])"
   ]
  },
  {
   "cell_type": "markdown",
   "metadata": {},
   "source": [
    "## b) Binning\n",
    "<p><i>Binning</i> is a process of transforming continuous numerical variables into discrete categorical 'bins', for grouped analysis.</p>"
   ]
  },
  {
   "cell_type": "code",
   "execution_count": 17,
   "metadata": {},
   "outputs": [],
   "source": [
    "# Importing numpy to use 'linspace' method to create bins\n",
    "import numpy as np"
   ]
  },
  {
   "cell_type": "markdown",
   "metadata": {},
   "source": [
    "<b>i. Feature Variable : 'sqft_living'</b>"
   ]
  },
  {
   "cell_type": "code",
   "execution_count": 18,
   "metadata": {},
   "outputs": [
    {
     "data": {
      "text/html": [
       "<div>\n",
       "<style scoped>\n",
       "    .dataframe tbody tr th:only-of-type {\n",
       "        vertical-align: middle;\n",
       "    }\n",
       "\n",
       "    .dataframe tbody tr th {\n",
       "        vertical-align: top;\n",
       "    }\n",
       "\n",
       "    .dataframe thead th {\n",
       "        text-align: right;\n",
       "    }\n",
       "</style>\n",
       "<table border=\"1\" class=\"dataframe\">\n",
       "  <thead>\n",
       "    <tr style=\"text-align: right;\">\n",
       "      <th></th>\n",
       "      <th>sqft_living</th>\n",
       "      <th>sqft_living_binned</th>\n",
       "    </tr>\n",
       "  </thead>\n",
       "  <tbody>\n",
       "    <tr>\n",
       "      <td>0</td>\n",
       "      <td>1180</td>\n",
       "      <td>1</td>\n",
       "    </tr>\n",
       "    <tr>\n",
       "      <td>1</td>\n",
       "      <td>2570</td>\n",
       "      <td>2</td>\n",
       "    </tr>\n",
       "    <tr>\n",
       "      <td>2</td>\n",
       "      <td>770</td>\n",
       "      <td>0</td>\n",
       "    </tr>\n",
       "    <tr>\n",
       "      <td>3</td>\n",
       "      <td>1960</td>\n",
       "      <td>1</td>\n",
       "    </tr>\n",
       "    <tr>\n",
       "      <td>4</td>\n",
       "      <td>1680</td>\n",
       "      <td>1</td>\n",
       "    </tr>\n",
       "  </tbody>\n",
       "</table>\n",
       "</div>"
      ],
      "text/plain": [
       "   sqft_living sqft_living_binned\n",
       "0         1180                  1\n",
       "1         2570                  2\n",
       "2          770                  0\n",
       "3         1960                  1\n",
       "4         1680                  1"
      ]
     },
     "execution_count": 18,
     "metadata": {},
     "output_type": "execute_result"
    }
   ],
   "source": [
    "# Creating bin's range\n",
    "bins = [int(x) for x in np.ndarray.tolist(np.linspace(0, 8000, 9))]\n",
    "# Creating group_names(labels)\n",
    "group_names = [int(x/1000) for x in bins if x < 8000]\n",
    "\n",
    "# Setting bins\n",
    "df['sqft_living_binned'] = pd.cut(df['sqft_living'], bins, labels=group_names)\n",
    "\n",
    "df[['sqft_living','sqft_living_binned']].head()"
   ]
  },
  {
   "cell_type": "markdown",
   "metadata": {},
   "source": [
    "<b>ii. Feature Variable : 'sqft_lot'</b>"
   ]
  },
  {
   "cell_type": "code",
   "execution_count": 19,
   "metadata": {},
   "outputs": [
    {
     "data": {
      "text/html": [
       "<div>\n",
       "<style scoped>\n",
       "    .dataframe tbody tr th:only-of-type {\n",
       "        vertical-align: middle;\n",
       "    }\n",
       "\n",
       "    .dataframe tbody tr th {\n",
       "        vertical-align: top;\n",
       "    }\n",
       "\n",
       "    .dataframe thead th {\n",
       "        text-align: right;\n",
       "    }\n",
       "</style>\n",
       "<table border=\"1\" class=\"dataframe\">\n",
       "  <thead>\n",
       "    <tr style=\"text-align: right;\">\n",
       "      <th></th>\n",
       "      <th>sqft_lot</th>\n",
       "      <th>sqft_lot_binned</th>\n",
       "    </tr>\n",
       "  </thead>\n",
       "  <tbody>\n",
       "    <tr>\n",
       "      <td>0</td>\n",
       "      <td>5650</td>\n",
       "      <td>0</td>\n",
       "    </tr>\n",
       "    <tr>\n",
       "      <td>1</td>\n",
       "      <td>7242</td>\n",
       "      <td>0</td>\n",
       "    </tr>\n",
       "    <tr>\n",
       "      <td>2</td>\n",
       "      <td>10000</td>\n",
       "      <td>0</td>\n",
       "    </tr>\n",
       "    <tr>\n",
       "      <td>3</td>\n",
       "      <td>5000</td>\n",
       "      <td>0</td>\n",
       "    </tr>\n",
       "    <tr>\n",
       "      <td>4</td>\n",
       "      <td>8080</td>\n",
       "      <td>0</td>\n",
       "    </tr>\n",
       "  </tbody>\n",
       "</table>\n",
       "</div>"
      ],
      "text/plain": [
       "   sqft_lot sqft_lot_binned\n",
       "0      5650               0\n",
       "1      7242               0\n",
       "2     10000               0\n",
       "3      5000               0\n",
       "4      8080               0"
      ]
     },
     "execution_count": 19,
     "metadata": {},
     "output_type": "execute_result"
    }
   ],
   "source": [
    "# Creating bin's range\n",
    "bins = [int(x) for x in np.ndarray.tolist(np.linspace(0, 250000, 26))]\n",
    "# Creating group_names(labels)\n",
    "group_names = [int(x/1000) for x in bins if x < 250000]\n",
    "\n",
    "# Setting bins\n",
    "df['sqft_lot_binned'] = pd.cut(df['sqft_lot'], bins, labels=group_names)\n",
    "\n",
    "df[['sqft_lot','sqft_lot_binned']].head()"
   ]
  },
  {
   "cell_type": "markdown",
   "metadata": {},
   "source": [
    "<b>iii. Feature Variable : 'yr_built'</b>"
   ]
  },
  {
   "cell_type": "code",
   "execution_count": 20,
   "metadata": {},
   "outputs": [
    {
     "data": {
      "text/html": [
       "<div>\n",
       "<style scoped>\n",
       "    .dataframe tbody tr th:only-of-type {\n",
       "        vertical-align: middle;\n",
       "    }\n",
       "\n",
       "    .dataframe tbody tr th {\n",
       "        vertical-align: top;\n",
       "    }\n",
       "\n",
       "    .dataframe thead th {\n",
       "        text-align: right;\n",
       "    }\n",
       "</style>\n",
       "<table border=\"1\" class=\"dataframe\">\n",
       "  <thead>\n",
       "    <tr style=\"text-align: right;\">\n",
       "      <th></th>\n",
       "      <th>yr_built</th>\n",
       "      <th>yr_built_binned</th>\n",
       "    </tr>\n",
       "  </thead>\n",
       "  <tbody>\n",
       "    <tr>\n",
       "      <td>0</td>\n",
       "      <td>1955</td>\n",
       "      <td>5</td>\n",
       "    </tr>\n",
       "    <tr>\n",
       "      <td>1</td>\n",
       "      <td>1951</td>\n",
       "      <td>5</td>\n",
       "    </tr>\n",
       "    <tr>\n",
       "      <td>2</td>\n",
       "      <td>1933</td>\n",
       "      <td>3</td>\n",
       "    </tr>\n",
       "    <tr>\n",
       "      <td>3</td>\n",
       "      <td>1965</td>\n",
       "      <td>6</td>\n",
       "    </tr>\n",
       "    <tr>\n",
       "      <td>4</td>\n",
       "      <td>1987</td>\n",
       "      <td>8</td>\n",
       "    </tr>\n",
       "  </tbody>\n",
       "</table>\n",
       "</div>"
      ],
      "text/plain": [
       "   yr_built yr_built_binned\n",
       "0      1955               5\n",
       "1      1951               5\n",
       "2      1933               3\n",
       "3      1965               6\n",
       "4      1987               8"
      ]
     },
     "execution_count": 20,
     "metadata": {},
     "output_type": "execute_result"
    }
   ],
   "source": [
    "# Creating bin's range\n",
    "bins = [int(x) for x in np.ndarray.tolist(np.linspace(1900, 2020, 13))]\n",
    "# Creating group_names(labels)\n",
    "group_names = [x for x in range(0,12)]\n",
    "\n",
    "# Setting bins\n",
    "df['yr_built_binned'] = pd.cut(df['yr_built'], bins, labels=group_names, include_lowest=True)\n",
    "\n",
    "df[['yr_built','yr_built_binned']].head()"
   ]
  },
  {
   "cell_type": "markdown",
   "metadata": {},
   "source": [
    "# 3) Exploratory Data Analysis (EDA)\n",
    "\n",
    "<p><b>Exploratory Data Analysis (EDA)</b>, also known as Data Exploration, is a step in the Data Analysis Process, where a number of techniques are used to better understand the dataset being used.</p>\n",
    "\n",
    "‘Understanding the dataset’ can refer to a number of things including but not limited to…\n",
    ">Extracting important variables and leaving behind useless variables\n",
    "\n",
    ">Identifying outliers, missing values, or human error\n",
    "\n",
    ">Understanding the relationship(s), or lack of, between variables\n",
    "\n",
    ">Ultimately, maximizing your insights of a dataset and minimizing potential error that may occur later in the process"
   ]
  },
  {
   "cell_type": "markdown",
   "metadata": {},
   "source": [
    "## a) Correlation and Causation\n",
    "\n",
    "<p><b>Correlation</b>: a measure of the extent of interdependence between variables.</p>\n",
    "\n",
    "<p><b>Causation</b>: the relationship between cause and effect between two variables.</p>\n",
    "\n",
    "<p>It is important to know the difference between these two and that correlation does not imply causation. Determining correlation is much simpler the determining causation as causation may require independent experimentation.</p>\n",
    "\n",
    "\n",
    "\n",
    "### Pearson Correlation\n",
    "<p>The Pearson Correlation measures the linear dependence between two variables X and Y.</p>\n",
    "<p>The resulting coefficient is a value between -1 and 1 inclusive, where:</p>\n",
    "<ul>\n",
    "    <li><b>1</b> : Total positive linear correlation.</li>\n",
    "    <li><b>0</b> : No linear correlation, the two variables most likely do not affect each other.</li>\n",
    "    <li><b>-1</b> : Total negative linear correlation.</li>\n",
    "</ul>\n",
    "\n",
    "<b>Pearson Correlation is the default method of the function \"corr\".</b>"
   ]
  },
  {
   "cell_type": "markdown",
   "metadata": {},
   "source": [
    "### Correlation between Feature Variables\n",
    "\n",
    "We can calculate the correlation between variables of type \"int64\" or \"float64\" using the method \"corr\""
   ]
  },
  {
   "cell_type": "code",
   "execution_count": 21,
   "metadata": {},
   "outputs": [
    {
     "data": {
      "text/html": [
       "<div>\n",
       "<style scoped>\n",
       "    .dataframe tbody tr th:only-of-type {\n",
       "        vertical-align: middle;\n",
       "    }\n",
       "\n",
       "    .dataframe tbody tr th {\n",
       "        vertical-align: top;\n",
       "    }\n",
       "\n",
       "    .dataframe thead th {\n",
       "        text-align: right;\n",
       "    }\n",
       "</style>\n",
       "<table border=\"1\" class=\"dataframe\">\n",
       "  <thead>\n",
       "    <tr style=\"text-align: right;\">\n",
       "      <th></th>\n",
       "      <th>id</th>\n",
       "      <th>price</th>\n",
       "      <th>bedrooms</th>\n",
       "      <th>bathrooms</th>\n",
       "      <th>sqft_living</th>\n",
       "      <th>sqft_lot</th>\n",
       "      <th>floors</th>\n",
       "      <th>waterfront</th>\n",
       "      <th>view</th>\n",
       "      <th>condition</th>\n",
       "      <th>grade</th>\n",
       "      <th>sqft_above</th>\n",
       "      <th>sqft_basement</th>\n",
       "      <th>yr_built</th>\n",
       "      <th>yr_renovated</th>\n",
       "      <th>zipcode</th>\n",
       "      <th>lat</th>\n",
       "      <th>long</th>\n",
       "      <th>sqft_living15</th>\n",
       "      <th>sqft_lot15</th>\n",
       "    </tr>\n",
       "  </thead>\n",
       "  <tbody>\n",
       "    <tr>\n",
       "      <td>id</td>\n",
       "      <td>1.000000</td>\n",
       "      <td>-0.017125</td>\n",
       "      <td>0.000946</td>\n",
       "      <td>0.006853</td>\n",
       "      <td>-0.009221</td>\n",
       "      <td>-0.148014</td>\n",
       "      <td>0.019217</td>\n",
       "      <td>-0.002568</td>\n",
       "      <td>0.015054</td>\n",
       "      <td>-0.024137</td>\n",
       "      <td>0.010285</td>\n",
       "      <td>-0.007535</td>\n",
       "      <td>-0.004898</td>\n",
       "      <td>0.022952</td>\n",
       "      <td>-0.016390</td>\n",
       "      <td>-0.011199</td>\n",
       "      <td>-0.005217</td>\n",
       "      <td>0.026934</td>\n",
       "      <td>-0.002030</td>\n",
       "      <td>-0.134990</td>\n",
       "    </tr>\n",
       "    <tr>\n",
       "      <td>price</td>\n",
       "      <td>-0.017125</td>\n",
       "      <td>1.000000</td>\n",
       "      <td>0.309136</td>\n",
       "      <td>0.517667</td>\n",
       "      <td>0.694162</td>\n",
       "      <td>0.101787</td>\n",
       "      <td>0.260509</td>\n",
       "      <td>0.257684</td>\n",
       "      <td>0.397922</td>\n",
       "      <td>0.041115</td>\n",
       "      <td>0.673294</td>\n",
       "      <td>0.597346</td>\n",
       "      <td>0.312632</td>\n",
       "      <td>0.053424</td>\n",
       "      <td>0.121002</td>\n",
       "      <td>-0.051205</td>\n",
       "      <td>0.318642</td>\n",
       "      <td>0.019220</td>\n",
       "      <td>0.594698</td>\n",
       "      <td>0.075995</td>\n",
       "    </tr>\n",
       "    <tr>\n",
       "      <td>bedrooms</td>\n",
       "      <td>0.000946</td>\n",
       "      <td>0.309136</td>\n",
       "      <td>1.000000</td>\n",
       "      <td>0.514767</td>\n",
       "      <td>0.579607</td>\n",
       "      <td>0.055263</td>\n",
       "      <td>0.174007</td>\n",
       "      <td>-0.009257</td>\n",
       "      <td>0.076269</td>\n",
       "      <td>0.028806</td>\n",
       "      <td>0.354888</td>\n",
       "      <td>0.477418</td>\n",
       "      <td>0.300798</td>\n",
       "      <td>0.154233</td>\n",
       "      <td>0.017347</td>\n",
       "      <td>-0.153237</td>\n",
       "      <td>-0.010251</td>\n",
       "      <td>0.130546</td>\n",
       "      <td>0.390637</td>\n",
       "      <td>0.036003</td>\n",
       "    </tr>\n",
       "    <tr>\n",
       "      <td>bathrooms</td>\n",
       "      <td>0.006853</td>\n",
       "      <td>0.517667</td>\n",
       "      <td>0.514767</td>\n",
       "      <td>1.000000</td>\n",
       "      <td>0.749736</td>\n",
       "      <td>0.098988</td>\n",
       "      <td>0.502224</td>\n",
       "      <td>0.058076</td>\n",
       "      <td>0.179273</td>\n",
       "      <td>-0.125042</td>\n",
       "      <td>0.661067</td>\n",
       "      <td>0.679287</td>\n",
       "      <td>0.274127</td>\n",
       "      <td>0.509076</td>\n",
       "      <td>0.047848</td>\n",
       "      <td>-0.204181</td>\n",
       "      <td>0.024235</td>\n",
       "      <td>0.223122</td>\n",
       "      <td>0.567264</td>\n",
       "      <td>0.077289</td>\n",
       "    </tr>\n",
       "    <tr>\n",
       "      <td>sqft_living</td>\n",
       "      <td>-0.009221</td>\n",
       "      <td>0.694162</td>\n",
       "      <td>0.579607</td>\n",
       "      <td>0.749736</td>\n",
       "      <td>1.000000</td>\n",
       "      <td>0.216400</td>\n",
       "      <td>0.355027</td>\n",
       "      <td>0.094820</td>\n",
       "      <td>0.275968</td>\n",
       "      <td>-0.057382</td>\n",
       "      <td>0.762476</td>\n",
       "      <td>0.873958</td>\n",
       "      <td>0.425366</td>\n",
       "      <td>0.320935</td>\n",
       "      <td>0.049858</td>\n",
       "      <td>-0.200143</td>\n",
       "      <td>0.052838</td>\n",
       "      <td>0.239905</td>\n",
       "      <td>0.761065</td>\n",
       "      <td>0.178127</td>\n",
       "    </tr>\n",
       "    <tr>\n",
       "      <td>sqft_lot</td>\n",
       "      <td>-0.148014</td>\n",
       "      <td>0.101787</td>\n",
       "      <td>0.055263</td>\n",
       "      <td>0.098988</td>\n",
       "      <td>0.216400</td>\n",
       "      <td>1.000000</td>\n",
       "      <td>-0.024143</td>\n",
       "      <td>0.032454</td>\n",
       "      <td>0.053827</td>\n",
       "      <td>-0.010782</td>\n",
       "      <td>0.143298</td>\n",
       "      <td>0.226934</td>\n",
       "      <td>0.021642</td>\n",
       "      <td>0.066908</td>\n",
       "      <td>0.010613</td>\n",
       "      <td>-0.158138</td>\n",
       "      <td>-0.079236</td>\n",
       "      <td>0.267282</td>\n",
       "      <td>0.216221</td>\n",
       "      <td>0.800343</td>\n",
       "    </tr>\n",
       "    <tr>\n",
       "      <td>floors</td>\n",
       "      <td>0.019217</td>\n",
       "      <td>0.260509</td>\n",
       "      <td>0.174007</td>\n",
       "      <td>0.502224</td>\n",
       "      <td>0.355027</td>\n",
       "      <td>-0.024143</td>\n",
       "      <td>1.000000</td>\n",
       "      <td>0.024111</td>\n",
       "      <td>0.027190</td>\n",
       "      <td>-0.264033</td>\n",
       "      <td>0.457955</td>\n",
       "      <td>0.526044</td>\n",
       "      <td>-0.250777</td>\n",
       "      <td>0.489673</td>\n",
       "      <td>0.006574</td>\n",
       "      <td>-0.058914</td>\n",
       "      <td>0.048992</td>\n",
       "      <td>0.125727</td>\n",
       "      <td>0.278999</td>\n",
       "      <td>-0.022799</td>\n",
       "    </tr>\n",
       "    <tr>\n",
       "      <td>waterfront</td>\n",
       "      <td>-0.002568</td>\n",
       "      <td>0.257684</td>\n",
       "      <td>-0.009257</td>\n",
       "      <td>0.058076</td>\n",
       "      <td>0.094820</td>\n",
       "      <td>0.032454</td>\n",
       "      <td>0.024111</td>\n",
       "      <td>1.000000</td>\n",
       "      <td>0.403360</td>\n",
       "      <td>0.017375</td>\n",
       "      <td>0.079152</td>\n",
       "      <td>0.066081</td>\n",
       "      <td>0.071597</td>\n",
       "      <td>-0.026392</td>\n",
       "      <td>0.089672</td>\n",
       "      <td>0.032074</td>\n",
       "      <td>-0.014911</td>\n",
       "      <td>-0.041071</td>\n",
       "      <td>0.084392</td>\n",
       "      <td>0.039783</td>\n",
       "    </tr>\n",
       "    <tr>\n",
       "      <td>view</td>\n",
       "      <td>0.015054</td>\n",
       "      <td>0.397922</td>\n",
       "      <td>0.076269</td>\n",
       "      <td>0.179273</td>\n",
       "      <td>0.275968</td>\n",
       "      <td>0.053827</td>\n",
       "      <td>0.027190</td>\n",
       "      <td>0.403360</td>\n",
       "      <td>1.000000</td>\n",
       "      <td>0.046262</td>\n",
       "      <td>0.247351</td>\n",
       "      <td>0.157959</td>\n",
       "      <td>0.272368</td>\n",
       "      <td>-0.055798</td>\n",
       "      <td>0.102614</td>\n",
       "      <td>0.089635</td>\n",
       "      <td>0.011543</td>\n",
       "      <td>-0.087202</td>\n",
       "      <td>0.277511</td>\n",
       "      <td>0.051192</td>\n",
       "    </tr>\n",
       "    <tr>\n",
       "      <td>condition</td>\n",
       "      <td>-0.024137</td>\n",
       "      <td>0.041115</td>\n",
       "      <td>0.028806</td>\n",
       "      <td>-0.125042</td>\n",
       "      <td>-0.057382</td>\n",
       "      <td>-0.010782</td>\n",
       "      <td>-0.264033</td>\n",
       "      <td>0.017375</td>\n",
       "      <td>0.046262</td>\n",
       "      <td>1.000000</td>\n",
       "      <td>-0.143900</td>\n",
       "      <td>-0.158254</td>\n",
       "      <td>0.176900</td>\n",
       "      <td>-0.361274</td>\n",
       "      <td>-0.060493</td>\n",
       "      <td>0.002806</td>\n",
       "      <td>-0.013284</td>\n",
       "      <td>-0.106128</td>\n",
       "      <td>-0.092477</td>\n",
       "      <td>0.001771</td>\n",
       "    </tr>\n",
       "    <tr>\n",
       "      <td>grade</td>\n",
       "      <td>0.010285</td>\n",
       "      <td>0.673294</td>\n",
       "      <td>0.354888</td>\n",
       "      <td>0.661067</td>\n",
       "      <td>0.762476</td>\n",
       "      <td>0.143298</td>\n",
       "      <td>0.457955</td>\n",
       "      <td>0.079152</td>\n",
       "      <td>0.247351</td>\n",
       "      <td>-0.143900</td>\n",
       "      <td>1.000000</td>\n",
       "      <td>0.754300</td>\n",
       "      <td>0.160592</td>\n",
       "      <td>0.446942</td>\n",
       "      <td>0.012459</td>\n",
       "      <td>-0.184578</td>\n",
       "      <td>0.114701</td>\n",
       "      <td>0.196789</td>\n",
       "      <td>0.713876</td>\n",
       "      <td>0.114778</td>\n",
       "    </tr>\n",
       "    <tr>\n",
       "      <td>sqft_above</td>\n",
       "      <td>-0.007535</td>\n",
       "      <td>0.597346</td>\n",
       "      <td>0.477418</td>\n",
       "      <td>0.679287</td>\n",
       "      <td>0.873958</td>\n",
       "      <td>0.226934</td>\n",
       "      <td>0.526044</td>\n",
       "      <td>0.066081</td>\n",
       "      <td>0.157959</td>\n",
       "      <td>-0.158254</td>\n",
       "      <td>0.754300</td>\n",
       "      <td>1.000000</td>\n",
       "      <td>-0.068090</td>\n",
       "      <td>0.426563</td>\n",
       "      <td>0.019540</td>\n",
       "      <td>-0.261845</td>\n",
       "      <td>-0.001190</td>\n",
       "      <td>0.344581</td>\n",
       "      <td>0.734560</td>\n",
       "      <td>0.191889</td>\n",
       "    </tr>\n",
       "    <tr>\n",
       "      <td>sqft_basement</td>\n",
       "      <td>-0.004898</td>\n",
       "      <td>0.312632</td>\n",
       "      <td>0.300798</td>\n",
       "      <td>0.274127</td>\n",
       "      <td>0.425366</td>\n",
       "      <td>0.021642</td>\n",
       "      <td>-0.250777</td>\n",
       "      <td>0.071597</td>\n",
       "      <td>0.272368</td>\n",
       "      <td>0.176900</td>\n",
       "      <td>0.160592</td>\n",
       "      <td>-0.068090</td>\n",
       "      <td>1.000000</td>\n",
       "      <td>-0.135511</td>\n",
       "      <td>0.065964</td>\n",
       "      <td>0.076742</td>\n",
       "      <td>0.110683</td>\n",
       "      <td>-0.149186</td>\n",
       "      <td>0.194456</td>\n",
       "      <td>0.008333</td>\n",
       "    </tr>\n",
       "    <tr>\n",
       "      <td>yr_built</td>\n",
       "      <td>0.022952</td>\n",
       "      <td>0.053424</td>\n",
       "      <td>0.154233</td>\n",
       "      <td>0.509076</td>\n",
       "      <td>0.320935</td>\n",
       "      <td>0.066908</td>\n",
       "      <td>0.489673</td>\n",
       "      <td>-0.026392</td>\n",
       "      <td>-0.055798</td>\n",
       "      <td>-0.361274</td>\n",
       "      <td>0.446942</td>\n",
       "      <td>0.426563</td>\n",
       "      <td>-0.135511</td>\n",
       "      <td>1.000000</td>\n",
       "      <td>-0.223699</td>\n",
       "      <td>-0.347156</td>\n",
       "      <td>-0.148983</td>\n",
       "      <td>0.411087</td>\n",
       "      <td>0.326527</td>\n",
       "      <td>0.068227</td>\n",
       "    </tr>\n",
       "    <tr>\n",
       "      <td>yr_renovated</td>\n",
       "      <td>-0.016390</td>\n",
       "      <td>0.121002</td>\n",
       "      <td>0.017347</td>\n",
       "      <td>0.047848</td>\n",
       "      <td>0.049858</td>\n",
       "      <td>0.010613</td>\n",
       "      <td>0.006574</td>\n",
       "      <td>0.089672</td>\n",
       "      <td>0.102614</td>\n",
       "      <td>-0.060493</td>\n",
       "      <td>0.012459</td>\n",
       "      <td>0.019540</td>\n",
       "      <td>0.065964</td>\n",
       "      <td>-0.223699</td>\n",
       "      <td>1.000000</td>\n",
       "      <td>0.064948</td>\n",
       "      <td>0.030093</td>\n",
       "      <td>-0.069462</td>\n",
       "      <td>-0.005169</td>\n",
       "      <td>0.006931</td>\n",
       "    </tr>\n",
       "    <tr>\n",
       "      <td>zipcode</td>\n",
       "      <td>-0.011199</td>\n",
       "      <td>-0.051205</td>\n",
       "      <td>-0.153237</td>\n",
       "      <td>-0.204181</td>\n",
       "      <td>-0.200143</td>\n",
       "      <td>-0.158138</td>\n",
       "      <td>-0.058914</td>\n",
       "      <td>0.032074</td>\n",
       "      <td>0.089635</td>\n",
       "      <td>0.002806</td>\n",
       "      <td>-0.184578</td>\n",
       "      <td>-0.261845</td>\n",
       "      <td>0.076742</td>\n",
       "      <td>-0.347156</td>\n",
       "      <td>0.064948</td>\n",
       "      <td>1.000000</td>\n",
       "      <td>0.266208</td>\n",
       "      <td>-0.564067</td>\n",
       "      <td>-0.279163</td>\n",
       "      <td>-0.151028</td>\n",
       "    </tr>\n",
       "    <tr>\n",
       "      <td>lat</td>\n",
       "      <td>-0.005217</td>\n",
       "      <td>0.318642</td>\n",
       "      <td>-0.010251</td>\n",
       "      <td>0.024235</td>\n",
       "      <td>0.052838</td>\n",
       "      <td>-0.079236</td>\n",
       "      <td>0.048992</td>\n",
       "      <td>-0.014911</td>\n",
       "      <td>0.011543</td>\n",
       "      <td>-0.013284</td>\n",
       "      <td>0.114701</td>\n",
       "      <td>-0.001190</td>\n",
       "      <td>0.110683</td>\n",
       "      <td>-0.148983</td>\n",
       "      <td>0.030093</td>\n",
       "      <td>0.266208</td>\n",
       "      <td>1.000000</td>\n",
       "      <td>-0.133441</td>\n",
       "      <td>0.048819</td>\n",
       "      <td>-0.079130</td>\n",
       "    </tr>\n",
       "    <tr>\n",
       "      <td>long</td>\n",
       "      <td>0.026934</td>\n",
       "      <td>0.019220</td>\n",
       "      <td>0.130546</td>\n",
       "      <td>0.223122</td>\n",
       "      <td>0.239905</td>\n",
       "      <td>0.267282</td>\n",
       "      <td>0.125727</td>\n",
       "      <td>-0.041071</td>\n",
       "      <td>-0.087202</td>\n",
       "      <td>-0.106128</td>\n",
       "      <td>0.196789</td>\n",
       "      <td>0.344581</td>\n",
       "      <td>-0.149186</td>\n",
       "      <td>0.411087</td>\n",
       "      <td>-0.069462</td>\n",
       "      <td>-0.564067</td>\n",
       "      <td>-0.133441</td>\n",
       "      <td>1.000000</td>\n",
       "      <td>0.335293</td>\n",
       "      <td>0.256805</td>\n",
       "    </tr>\n",
       "    <tr>\n",
       "      <td>sqft_living15</td>\n",
       "      <td>-0.002030</td>\n",
       "      <td>0.594698</td>\n",
       "      <td>0.390637</td>\n",
       "      <td>0.567264</td>\n",
       "      <td>0.761065</td>\n",
       "      <td>0.216221</td>\n",
       "      <td>0.278999</td>\n",
       "      <td>0.084392</td>\n",
       "      <td>0.277511</td>\n",
       "      <td>-0.092477</td>\n",
       "      <td>0.713876</td>\n",
       "      <td>0.734560</td>\n",
       "      <td>0.194456</td>\n",
       "      <td>0.326527</td>\n",
       "      <td>-0.005169</td>\n",
       "      <td>-0.279163</td>\n",
       "      <td>0.048819</td>\n",
       "      <td>0.335293</td>\n",
       "      <td>1.000000</td>\n",
       "      <td>0.203758</td>\n",
       "    </tr>\n",
       "    <tr>\n",
       "      <td>sqft_lot15</td>\n",
       "      <td>-0.134990</td>\n",
       "      <td>0.075995</td>\n",
       "      <td>0.036003</td>\n",
       "      <td>0.077289</td>\n",
       "      <td>0.178127</td>\n",
       "      <td>0.800343</td>\n",
       "      <td>-0.022799</td>\n",
       "      <td>0.039783</td>\n",
       "      <td>0.051192</td>\n",
       "      <td>0.001771</td>\n",
       "      <td>0.114778</td>\n",
       "      <td>0.191889</td>\n",
       "      <td>0.008333</td>\n",
       "      <td>0.068227</td>\n",
       "      <td>0.006931</td>\n",
       "      <td>-0.151028</td>\n",
       "      <td>-0.079130</td>\n",
       "      <td>0.256805</td>\n",
       "      <td>0.203758</td>\n",
       "      <td>1.000000</td>\n",
       "    </tr>\n",
       "  </tbody>\n",
       "</table>\n",
       "</div>"
      ],
      "text/plain": [
       "                     id     price  bedrooms  bathrooms  sqft_living  sqft_lot  \\\n",
       "id             1.000000 -0.017125  0.000946   0.006853    -0.009221 -0.148014   \n",
       "price         -0.017125  1.000000  0.309136   0.517667     0.694162  0.101787   \n",
       "bedrooms       0.000946  0.309136  1.000000   0.514767     0.579607  0.055263   \n",
       "bathrooms      0.006853  0.517667  0.514767   1.000000     0.749736  0.098988   \n",
       "sqft_living   -0.009221  0.694162  0.579607   0.749736     1.000000  0.216400   \n",
       "sqft_lot      -0.148014  0.101787  0.055263   0.098988     0.216400  1.000000   \n",
       "floors         0.019217  0.260509  0.174007   0.502224     0.355027 -0.024143   \n",
       "waterfront    -0.002568  0.257684 -0.009257   0.058076     0.094820  0.032454   \n",
       "view           0.015054  0.397922  0.076269   0.179273     0.275968  0.053827   \n",
       "condition     -0.024137  0.041115  0.028806  -0.125042    -0.057382 -0.010782   \n",
       "grade          0.010285  0.673294  0.354888   0.661067     0.762476  0.143298   \n",
       "sqft_above    -0.007535  0.597346  0.477418   0.679287     0.873958  0.226934   \n",
       "sqft_basement -0.004898  0.312632  0.300798   0.274127     0.425366  0.021642   \n",
       "yr_built       0.022952  0.053424  0.154233   0.509076     0.320935  0.066908   \n",
       "yr_renovated  -0.016390  0.121002  0.017347   0.047848     0.049858  0.010613   \n",
       "zipcode       -0.011199 -0.051205 -0.153237  -0.204181    -0.200143 -0.158138   \n",
       "lat           -0.005217  0.318642 -0.010251   0.024235     0.052838 -0.079236   \n",
       "long           0.026934  0.019220  0.130546   0.223122     0.239905  0.267282   \n",
       "sqft_living15 -0.002030  0.594698  0.390637   0.567264     0.761065  0.216221   \n",
       "sqft_lot15    -0.134990  0.075995  0.036003   0.077289     0.178127  0.800343   \n",
       "\n",
       "                 floors  waterfront      view  condition     grade  \\\n",
       "id             0.019217   -0.002568  0.015054  -0.024137  0.010285   \n",
       "price          0.260509    0.257684  0.397922   0.041115  0.673294   \n",
       "bedrooms       0.174007   -0.009257  0.076269   0.028806  0.354888   \n",
       "bathrooms      0.502224    0.058076  0.179273  -0.125042  0.661067   \n",
       "sqft_living    0.355027    0.094820  0.275968  -0.057382  0.762476   \n",
       "sqft_lot      -0.024143    0.032454  0.053827  -0.010782  0.143298   \n",
       "floors         1.000000    0.024111  0.027190  -0.264033  0.457955   \n",
       "waterfront     0.024111    1.000000  0.403360   0.017375  0.079152   \n",
       "view           0.027190    0.403360  1.000000   0.046262  0.247351   \n",
       "condition     -0.264033    0.017375  0.046262   1.000000 -0.143900   \n",
       "grade          0.457955    0.079152  0.247351  -0.143900  1.000000   \n",
       "sqft_above     0.526044    0.066081  0.157959  -0.158254  0.754300   \n",
       "sqft_basement -0.250777    0.071597  0.272368   0.176900  0.160592   \n",
       "yr_built       0.489673   -0.026392 -0.055798  -0.361274  0.446942   \n",
       "yr_renovated   0.006574    0.089672  0.102614  -0.060493  0.012459   \n",
       "zipcode       -0.058914    0.032074  0.089635   0.002806 -0.184578   \n",
       "lat            0.048992   -0.014911  0.011543  -0.013284  0.114701   \n",
       "long           0.125727   -0.041071 -0.087202  -0.106128  0.196789   \n",
       "sqft_living15  0.278999    0.084392  0.277511  -0.092477  0.713876   \n",
       "sqft_lot15    -0.022799    0.039783  0.051192   0.001771  0.114778   \n",
       "\n",
       "               sqft_above  sqft_basement  yr_built  yr_renovated   zipcode  \\\n",
       "id              -0.007535      -0.004898  0.022952     -0.016390 -0.011199   \n",
       "price            0.597346       0.312632  0.053424      0.121002 -0.051205   \n",
       "bedrooms         0.477418       0.300798  0.154233      0.017347 -0.153237   \n",
       "bathrooms        0.679287       0.274127  0.509076      0.047848 -0.204181   \n",
       "sqft_living      0.873958       0.425366  0.320935      0.049858 -0.200143   \n",
       "sqft_lot         0.226934       0.021642  0.066908      0.010613 -0.158138   \n",
       "floors           0.526044      -0.250777  0.489673      0.006574 -0.058914   \n",
       "waterfront       0.066081       0.071597 -0.026392      0.089672  0.032074   \n",
       "view             0.157959       0.272368 -0.055798      0.102614  0.089635   \n",
       "condition       -0.158254       0.176900 -0.361274     -0.060493  0.002806   \n",
       "grade            0.754300       0.160592  0.446942      0.012459 -0.184578   \n",
       "sqft_above       1.000000      -0.068090  0.426563      0.019540 -0.261845   \n",
       "sqft_basement   -0.068090       1.000000 -0.135511      0.065964  0.076742   \n",
       "yr_built         0.426563      -0.135511  1.000000     -0.223699 -0.347156   \n",
       "yr_renovated     0.019540       0.065964 -0.223699      1.000000  0.064948   \n",
       "zipcode         -0.261845       0.076742 -0.347156      0.064948  1.000000   \n",
       "lat             -0.001190       0.110683 -0.148983      0.030093  0.266208   \n",
       "long             0.344581      -0.149186  0.411087     -0.069462 -0.564067   \n",
       "sqft_living15    0.734560       0.194456  0.326527     -0.005169 -0.279163   \n",
       "sqft_lot15       0.191889       0.008333  0.068227      0.006931 -0.151028   \n",
       "\n",
       "                    lat      long  sqft_living15  sqft_lot15  \n",
       "id            -0.005217  0.026934      -0.002030   -0.134990  \n",
       "price          0.318642  0.019220       0.594698    0.075995  \n",
       "bedrooms      -0.010251  0.130546       0.390637    0.036003  \n",
       "bathrooms      0.024235  0.223122       0.567264    0.077289  \n",
       "sqft_living    0.052838  0.239905       0.761065    0.178127  \n",
       "sqft_lot      -0.079236  0.267282       0.216221    0.800343  \n",
       "floors         0.048992  0.125727       0.278999   -0.022799  \n",
       "waterfront    -0.014911 -0.041071       0.084392    0.039783  \n",
       "view           0.011543 -0.087202       0.277511    0.051192  \n",
       "condition     -0.013284 -0.106128      -0.092477    0.001771  \n",
       "grade          0.114701  0.196789       0.713876    0.114778  \n",
       "sqft_above    -0.001190  0.344581       0.734560    0.191889  \n",
       "sqft_basement  0.110683 -0.149186       0.194456    0.008333  \n",
       "yr_built      -0.148983  0.411087       0.326527    0.068227  \n",
       "yr_renovated   0.030093 -0.069462      -0.005169    0.006931  \n",
       "zipcode        0.266208 -0.564067      -0.279163   -0.151028  \n",
       "lat            1.000000 -0.133441       0.048819   -0.079130  \n",
       "long          -0.133441  1.000000       0.335293    0.256805  \n",
       "sqft_living15  0.048819  0.335293       1.000000    0.203758  \n",
       "sqft_lot15    -0.079130  0.256805       0.203758    1.000000  "
      ]
     },
     "execution_count": 21,
     "metadata": {},
     "output_type": "execute_result"
    }
   ],
   "source": [
    "correlation = df.corr()\n",
    "correlation"
   ]
  },
  {
   "cell_type": "code",
   "execution_count": 22,
   "metadata": {},
   "outputs": [
    {
     "data": {
      "text/plain": [
       "<matplotlib.axes._subplots.AxesSubplot at 0x28a64a068c8>"
      ]
     },
     "execution_count": 22,
     "metadata": {},
     "output_type": "execute_result"
    },
    {
     "data": {
      "image/png": "[encoded data removed]",
      "text/plain": [
       "<Figure size 432x288 with 2 Axes>"
      ]
     },
     "metadata": {
      "needs_background": "light"
     },
     "output_type": "display_data"
    }
   ],
   "source": [
    "# seaborn is a visualizing package\n",
    "# We will be using both seaborn and matplotlib for visualization\n",
    "import seaborn as sns\n",
    "\n",
    "# Plotting the heatmap\n",
    "sns.heatmap(correlation,\n",
    "            xticklabels=correlation.columns,\n",
    "            yticklabels=correlation.columns,\n",
    "            cmap=sns.diverging_palette(220, 20, as_cmap=True))"
   ]
  },
  {
   "cell_type": "markdown",
   "metadata": {},
   "source": [
    "<i>The diagonal elements are always one</i>"
   ]
  },
  {
   "cell_type": "markdown",
   "metadata": {},
   "source": [
    "<p>sometimes we would like to know the significant of the correlation estimate.</p>\n",
    "\n",
    "### P-value\n",
    "<p>The P-value is the probability value that the correlation between these two variables is statistically significant. Normally, we choose a significance level of 0.05, which means that we are 95% confident that the correlation between the variables is significant.</p>\n",
    "\n",
    "By convention, when the\n",
    "<ul>\n",
    "    <li>p-value is $<$ 0.001: we say there is strong evidence that the correlation is significant.</li>\n",
    "    <li>the p-value is $<$ 0.05: there is moderate evidence that the correlation is significant.</li>\n",
    "    <li>the p-value is $<$ 0.1: there is weak evidence that the correlation is significant.</li>\n",
    "    <li>the p-value is $>$ 0.1: there is no evidence that the correlation is significant.</li>\n",
    "</ul>"
   ]
  },
  {
   "cell_type": "code",
   "execution_count": 23,
   "metadata": {},
   "outputs": [],
   "source": [
    "# Obtaining above information using  \"stats\" module in the \"scipy\"  library.\n",
    "from scipy import stats"
   ]
  },
  {
   "cell_type": "markdown",
   "metadata": {},
   "source": [
    "#### Bedrooms vs Price\n",
    "\n",
    "Let's calculate the Pearson Correlation Coefficient and P-value of 'bedrooms' and 'price'."
   ]
  },
  {
   "cell_type": "code",
   "execution_count": 25,
   "metadata": {},
   "outputs": [
    {
     "name": "stdout",
     "output_type": "stream",
     "text": [
      "The Pearson Correlation Coefficient is 0.30913645240290266 with a P-value of 0.0\n"
     ]
    }
   ],
   "source": [
    "pearson_coef, p_value = stats.pearsonr(df['bedrooms'], df['price'])\n",
    "print(\"The Pearson Correlation Coefficient is\", pearson_coef, \"with a P-value of\", p_value)"
   ]
  },
  {
   "cell_type": "markdown",
   "metadata": {},
   "source": [
    "#### Bathrooms vs Price\n",
    "\n",
    "Let's calculate the Pearson Correlation Coefficient and P-value of 'bathrooms' and 'price'."
   ]
  },
  {
   "cell_type": "code",
   "execution_count": 26,
   "metadata": {},
   "outputs": [
    {
     "name": "stdout",
     "output_type": "stream",
     "text": [
      "The Pearson Correlation Coefficient is 0.5176671698489387 with a P-value of 0.0\n"
     ]
    }
   ],
   "source": [
    "pearson_coef, p_value = stats.pearsonr(df['bathrooms'], df['price'])\n",
    "print(\"The Pearson Correlation Coefficient is\", pearson_coef, \"with a P-value of\", p_value)"
   ]
  },
  {
   "cell_type": "markdown",
   "metadata": {},
   "source": [
    "#### Sqft_living vs Price\n",
    "\n",
    "Let's calculate the Pearson Correlation Coefficient and P-value of 'sqft_living' and 'price'."
   ]
  },
  {
   "cell_type": "code",
   "execution_count": 75,
   "metadata": {},
   "outputs": [
    {
     "name": "stdout",
     "output_type": "stream",
     "text": [
      "The Pearson Correlation Coefficient is 0.6636606190443974 with a P-value of 0.0\n"
     ]
    }
   ],
   "source": [
    "pearson_coef, p_value = stats.pearsonr(df['sqft_living_binned'], df['price'])\n",
    "print(\"The Pearson Correlation Coefficient is\", pearson_coef, \"with a P-value of\", p_value)"
   ]
  },
  {
   "cell_type": "markdown",
   "metadata": {},
   "source": [
    "#### Sqft_lot vs Price\n",
    "\n",
    "Let's calculate the Pearson Correlation Coefficient and P-value of 'sqft_lot' and 'price'."
   ]
  },
  {
   "cell_type": "code",
   "execution_count": 76,
   "metadata": {},
   "outputs": [
    {
     "name": "stdout",
     "output_type": "stream",
     "text": [
      "The Pearson Correlation Coefficient is 0.10763430428745768 with a P-value of 2.0266247459155235e-56\n"
     ]
    }
   ],
   "source": [
    "pearson_coef, p_value = stats.pearsonr(df['sqft_lot_binned'], df['price'])\n",
    "print(\"The Pearson Correlation Coefficient is\", pearson_coef, \"with a P-value of\", p_value)"
   ]
  },
  {
   "cell_type": "markdown",
   "metadata": {},
   "source": [
    "#### Floors vs Price\n",
    "\n",
    "Let's calculate the Pearson Correlation Coefficient and P-value of 'floors' and 'price'."
   ]
  },
  {
   "cell_type": "code",
   "execution_count": 29,
   "metadata": {},
   "outputs": [
    {
     "name": "stdout",
     "output_type": "stream",
     "text": [
      "The Pearson Correlation Coefficient is 0.2605092949561793 with a P-value of 0.0\n"
     ]
    }
   ],
   "source": [
    "pearson_coef, p_value = stats.pearsonr(df['floors'], df['price'])\n",
    "print(\"The Pearson Correlation Coefficient is\", pearson_coef, \"with a P-value of\", p_value)"
   ]
  },
  {
   "cell_type": "markdown",
   "metadata": {},
   "source": [
    "#### Waterfront vs Price\n",
    "\n",
    "Let's calculate the Pearson Correlation Coefficient and P-value of 'waterfront' and 'price'."
   ]
  },
  {
   "cell_type": "code",
   "execution_count": 30,
   "metadata": {},
   "outputs": [
    {
     "name": "stdout",
     "output_type": "stream",
     "text": [
      "The Pearson Correlation Coefficient is 0.25768378999289826 with a P-value of 4e-323\n"
     ]
    }
   ],
   "source": [
    "pearson_coef, p_value = stats.pearsonr(df['waterfront'], df['price'])\n",
    "print(\"The Pearson Correlation Coefficient is\", pearson_coef, \"with a P-value of\", p_value)"
   ]
  },
  {
   "cell_type": "markdown",
   "metadata": {},
   "source": [
    "#### View vs Price\n",
    "\n",
    "Let's calculate the Pearson Correlation Coefficient and P-value of 'view' and 'price'."
   ]
  },
  {
   "cell_type": "code",
   "execution_count": 31,
   "metadata": {},
   "outputs": [
    {
     "name": "stdout",
     "output_type": "stream",
     "text": [
      "The Pearson Correlation Coefficient is 0.397921708288015 with a P-value of 0.0\n"
     ]
    }
   ],
   "source": [
    "pearson_coef, p_value = stats.pearsonr(df['view'], df['price'])\n",
    "print(\"The Pearson Correlation Coefficient is\", pearson_coef, \"with a P-value of\", p_value)"
   ]
  },
  {
   "cell_type": "markdown",
   "metadata": {},
   "source": [
    "#### Condition vs Price\n",
    "\n",
    "Let's calculate the Pearson Correlation Coefficient and P-value of 'condition' and 'price'."
   ]
  },
  {
   "cell_type": "code",
   "execution_count": 32,
   "metadata": {},
   "outputs": [
    {
     "name": "stdout",
     "output_type": "stream",
     "text": [
      "The Pearson Correlation Coefficient is 0.04111499613095378 with a P-value of 1.632499552904055e-09\n"
     ]
    }
   ],
   "source": [
    "pearson_coef, p_value = stats.pearsonr(df['condition'], df['price'])\n",
    "print(\"The Pearson Correlation Coefficient is\", pearson_coef, \"with a P-value of\", p_value)"
   ]
  },
  {
   "cell_type": "markdown",
   "metadata": {},
   "source": [
    "#### Grade vs Price\n",
    "\n",
    "Let's calculate the Pearson Correlation Coefficient and P-value of 'grade' and 'price'."
   ]
  },
  {
   "cell_type": "code",
   "execution_count": 33,
   "metadata": {},
   "outputs": [
    {
     "name": "stdout",
     "output_type": "stream",
     "text": [
      "The Pearson Correlation Coefficient is 0.6732944017228978 with a P-value of 0.0\n"
     ]
    }
   ],
   "source": [
    "pearson_coef, p_value = stats.pearsonr(df['grade'], df['price'])\n",
    "print(\"The Pearson Correlation Coefficient is\", pearson_coef, \"with a P-value of\", p_value)"
   ]
  },
  {
   "cell_type": "markdown",
   "metadata": {},
   "source": [
    "#### Sqft_above vs Price\n",
    "\n",
    "Let's calculate the Pearson Correlation Coefficient and P-value of 'sqft_above' and 'price'."
   ]
  },
  {
   "cell_type": "code",
   "execution_count": 34,
   "metadata": {},
   "outputs": [
    {
     "name": "stdout",
     "output_type": "stream",
     "text": [
      "The Pearson Correlation Coefficient is 0.5973461982753441 with a P-value of 0.0\n"
     ]
    }
   ],
   "source": [
    "pearson_coef, p_value = stats.pearsonr(df['sqft_above'], df['price'])\n",
    "print(\"The Pearson Correlation Coefficient is\", pearson_coef, \"with a P-value of\", p_value)"
   ]
  },
  {
   "cell_type": "markdown",
   "metadata": {},
   "source": [
    "#### Sqft_basement vs Price\n",
    "\n",
    "Let's calculate the Pearson Correlation Coefficient and P-value of 'sqft_basement' and 'price'."
   ]
  },
  {
   "cell_type": "code",
   "execution_count": 35,
   "metadata": {},
   "outputs": [
    {
     "name": "stdout",
     "output_type": "stream",
     "text": [
      "The Pearson Correlation Coefficient is 0.31263159132515905 with a P-value of 0.0\n"
     ]
    }
   ],
   "source": [
    "pearson_coef, p_value = stats.pearsonr(df['sqft_basement'], df['price'])\n",
    "print(\"The Pearson Correlation Coefficient is\", pearson_coef, \"with a P-value of\", p_value)"
   ]
  },
  {
   "cell_type": "markdown",
   "metadata": {},
   "source": [
    "#### Yr_built vs Price\n",
    "\n",
    "Let's calculate the Pearson Correlation Coefficient and P-value of 'yr_built' and 'price'."
   ]
  },
  {
   "cell_type": "code",
   "execution_count": 77,
   "metadata": {},
   "outputs": [
    {
     "name": "stdout",
     "output_type": "stream",
     "text": [
      "The Pearson Correlation Coefficient is 0.054460229211715144 with a P-value of 1.3415594487886922e-15\n"
     ]
    }
   ],
   "source": [
    "pearson_coef, p_value = stats.pearsonr(df['yr_built_binned'], df['price'])\n",
    "print(\"The Pearson Correlation Coefficient is\", pearson_coef, \"with a P-value of\", p_value)"
   ]
  },
  {
   "cell_type": "markdown",
   "metadata": {},
   "source": [
    "#### Yr_renovated vs Price\n",
    "\n",
    "Let's calculate the Pearson Correlation Coefficient and P-value of 'yr_renovated' and 'price'."
   ]
  },
  {
   "cell_type": "code",
   "execution_count": 37,
   "metadata": {},
   "outputs": [
    {
     "name": "stdout",
     "output_type": "stream",
     "text": [
      "The Pearson Correlation Coefficient is 0.1210019040517839 with a P-value of 6.30627152508459e-71\n"
     ]
    }
   ],
   "source": [
    "pearson_coef, p_value = stats.pearsonr(df['yr_renovated'], df['price'])\n",
    "print(\"The Pearson Correlation Coefficient is\", pearson_coef, \"with a P-value of\", p_value)"
   ]
  },
  {
   "cell_type": "markdown",
   "metadata": {},
   "source": [
    "#### Lat vs Price\n",
    "\n",
    "Let's calculate the Pearson Correlation Coefficient and P-value of 'lat' and 'price'."
   ]
  },
  {
   "cell_type": "code",
   "execution_count": 38,
   "metadata": {},
   "outputs": [
    {
     "name": "stdout",
     "output_type": "stream",
     "text": [
      "The Pearson Correlation Coefficient is 0.31864248591043837 with a P-value of 0.0\n"
     ]
    }
   ],
   "source": [
    "pearson_coef, p_value = stats.pearsonr(df['lat'], df['price'])\n",
    "print(\"The Pearson Correlation Coefficient is\", pearson_coef, \"with a P-value of\", p_value)"
   ]
  },
  {
   "cell_type": "markdown",
   "metadata": {},
   "source": [
    "#### Long vs Price\n",
    "\n",
    "Let's calculate the Pearson Correlation Coefficient and P-value of 'long' and 'price'."
   ]
  },
  {
   "cell_type": "code",
   "execution_count": 39,
   "metadata": {},
   "outputs": [
    {
     "name": "stdout",
     "output_type": "stream",
     "text": [
      "The Pearson Correlation Coefficient is 0.01922008418849009 with a P-value of 0.004828642922779233\n"
     ]
    }
   ],
   "source": [
    "pearson_coef, p_value = stats.pearsonr(df['long'], df['price'])\n",
    "print(\"The Pearson Correlation Coefficient is\", pearson_coef, \"with a P-value of\", p_value)"
   ]
  },
  {
   "cell_type": "markdown",
   "metadata": {},
   "source": [
    "#### Sqft_living15 vs Price\n",
    "\n",
    "Let's calculate the Pearson Correlation Coefficient and P-value of 'sqft_living15' and 'price'."
   ]
  },
  {
   "cell_type": "code",
   "execution_count": 41,
   "metadata": {},
   "outputs": [
    {
     "name": "stdout",
     "output_type": "stream",
     "text": [
      "The Pearson Correlation Coefficient is 0.5946983487611635 with a P-value of 0.0\n"
     ]
    }
   ],
   "source": [
    "pearson_coef, p_value = stats.pearsonr(df['sqft_living15'], df['price'])\n",
    "print(\"The Pearson Correlation Coefficient is\", pearson_coef, \"with a P-value of\", p_value)"
   ]
  },
  {
   "cell_type": "markdown",
   "metadata": {},
   "source": [
    "#### Sqft_lot15 vs Price\n",
    "\n",
    "Let's calculate the Pearson Correlation Coefficient and P-value of 'sqft_lot15' and 'price'."
   ]
  },
  {
   "cell_type": "code",
   "execution_count": 42,
   "metadata": {},
   "outputs": [
    {
     "name": "stdout",
     "output_type": "stream",
     "text": [
      "The Pearson Correlation Coefficient is 0.07599479739177237 with a P-value of 6.525975252158488e-29\n"
     ]
    }
   ],
   "source": [
    "pearson_coef, p_value = stats.pearsonr(df['sqft_lot15'], df['price'])\n",
    "print(\"The Pearson Correlation Coefficient is\", pearson_coef, \"with a P-value of\", p_value)"
   ]
  },
  {
   "cell_type": "markdown",
   "metadata": {},
   "source": [
    "#### zipcode vs Price\n",
    "\n",
    "Let's calculate the Pearson Correlation Coefficient and P-value of 'zipcode' and 'price'."
   ]
  },
  {
   "cell_type": "code",
   "execution_count": 43,
   "metadata": {},
   "outputs": [
    {
     "name": "stdout",
     "output_type": "stream",
     "text": [
      "The Pearson Correlation Coefficient is -0.051204704707398165 with a P-value of 5.805290332409149e-14\n"
     ]
    }
   ],
   "source": [
    "pearson_coef, p_value = stats.pearsonr(df['zipcode'], df['price'])\n",
    "print(\"The Pearson Correlation Coefficient is\", pearson_coef, \"with a P-value of\", p_value)"
   ]
  },
  {
   "cell_type": "code",
   "execution_count": 44,
   "metadata": {},
   "outputs": [],
   "source": [
    "# dataframe with only feature variables\n",
    "features = df[[\"bedrooms\",\"bathrooms\",\"sqft_living\",\"sqft_lot\",\"floors\",\"waterfront\",\"view\",\"condition\",\"grade\",\"yr_built\"]]\n",
    "\n",
    "# dataframe with only target variable\n",
    "target = df[[\"price\"]]\n",
    "\n",
    "# dataframe with both feature variables and target variable\n",
    "df1 = df[[\"bedrooms\",\"bathrooms\",\"sqft_living\",\"sqft_lot\",\"floors\",\"waterfront\",\"view\",\"condition\",\"grade\",\"yr_built\",\"price\"]]"
   ]
  },
  {
   "cell_type": "code",
   "execution_count": 74,
   "metadata": {},
   "outputs": [
    {
     "data": {
      "text/plain": [
       "<matplotlib.axes._subplots.AxesSubplot at 0x28a67db2dc8>"
      ]
     },
     "execution_count": 74,
     "metadata": {},
     "output_type": "execute_result"
    },
    {
     "data": {
      "image/png": "[encoded data removed]",
      "text/plain": [
       "<Figure size 432x288 with 1 Axes>"
      ]
     },
     "metadata": {
      "needs_background": "light"
     },
     "output_type": "display_data"
    }
   ],
   "source": [
    "sns.regplot(x=\"bathrooms\", y=\"price\", data=df)"
   ]
  },
  {
   "cell_type": "code",
   "execution_count": null,
   "metadata": {},
   "outputs": [],
   "source": []
  },
  {
   "cell_type": "code",
   "execution_count": null,
   "metadata": {},
   "outputs": [],
   "source": []
  }
 ],
 "metadata": {
  "kernelspec": {
   "display_name": "Python 3",
   "language": "python",
   "name": "python3"
  },
  "language_info": {
   "codemirror_mode": {
    "name": "ipython",
    "version": 3
   },
   "file_extension": ".py",
   "mimetype": "text/x-python",
   "name": "python",
   "nbconvert_exporter": "python",
   "pygments_lexer": "ipython3",
   "version": "3.8.5"
  }
 },
 "nbformat": 4,
 "nbformat_minor": 2
}
